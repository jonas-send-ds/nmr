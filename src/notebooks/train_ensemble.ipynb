{
 "cells": [
  {
   "cell_type": "code",
   "id": "initial_id",
   "metadata": {
    "collapsed": true,
    "ExecuteTime": {
     "end_time": "2025-07-14T16:16:26.487784Z",
     "start_time": "2025-07-14T16:16:22.193976Z"
    }
   },
   "source": [
    "import polars as pl\n",
    "import lightgbm as lgb\n",
    "import numpy as np\n",
    "\n",
    "from datetime import datetime\n",
    "\n",
    "from src.util.constants import DATA_PATH, META_MODEL_PERFORMANCE\n",
    "from src.util.common import load_from_pickle, mean_grouped_spearman_correlation\n",
    "from util.common import save_as_pickle"
   ],
   "outputs": [],
   "execution_count": 1
  },
  {
   "metadata": {
    "ExecuteTime": {
     "end_time": "2025-07-12T09:07:42.805874Z",
     "start_time": "2025-07-12T09:07:41.529779Z"
    }
   },
   "cell_type": "code",
   "source": [
    "selected_features = load_from_pickle(DATA_PATH / 'results/selected_features.pkl')\n",
    "required_columns = ['era', 'target'] + selected_features\n",
    "\n",
    "df_validate_list = []\n",
    "\n",
    "for fold in range(3):\n",
    "    df_validate_fold = pl.read_parquet(f\"{DATA_PATH}/folds/df_validate_{fold}.parquet\")\n",
    "    df_validate_fold = df_validate_fold.select(required_columns)\n",
    "    df_validate_list.append(df_validate_fold)\n",
    "    del df_validate_fold\n",
    "\n",
    "df_meta_model = pl.read_parquet(f'{DATA_PATH}/folds/df_meta_model.parquet')\n",
    "df_meta_model = df_meta_model.select(required_columns + ['numerai_meta_model'])"
   ],
   "id": "4bfb3ff657daf1bc",
   "outputs": [],
   "execution_count": 2
  },
  {
   "metadata": {
    "ExecuteTime": {
     "end_time": "2025-07-12T09:07:44.110391Z",
     "start_time": "2025-07-12T09:07:44.106358Z"
    }
   },
   "cell_type": "code",
   "source": [
    "def performance_approximation(df_validate_with_prediction: pl.DataFrame, df_meta_model_with_prediction: pl.DataFrame, fold: int) -> tuple[float, float, float, float]:\n",
    "    corr = mean_grouped_spearman_correlation(\n",
    "        df_validate_with_prediction['prediction'],\n",
    "        df_validate_with_prediction['target'],\n",
    "        df_validate_with_prediction['era']\n",
    "    )\n",
    "    corr_w_mm = df_meta_model_with_prediction.select(\n",
    "        pl.corr(\"prediction\", \"numerai_meta_model\", method=\"spearman\")\n",
    "        .over('era', mapping_strategy='explode')\n",
    "    ).mean().item()\n",
    "\n",
    "    mmc_approximation = corr - corr_w_mm * META_MODEL_PERFORMANCE[fold]\n",
    "    performance = .5 * corr + 2 * mmc_approximation\n",
    "\n",
    "    return performance, corr, corr_w_mm, mmc_approximation"
   ],
   "id": "70e3310dd93882a",
   "outputs": [],
   "execution_count": 3
  },
  {
   "metadata": {
    "ExecuteTime": {
     "end_time": "2025-07-12T09:07:47.198165Z",
     "start_time": "2025-07-12T09:07:47.195458Z"
    }
   },
   "cell_type": "code",
   "source": [
    "def get_linear_component(df: pl.DataFrame) -> pl.Series:\n",
    "    X = df[selected_features].to_numpy()\n",
    "    y = df['prediction'].to_numpy()\n",
    "    X = np.hstack([np.ones((X.shape[0], 1)), X])\n",
    "\n",
    "    beta_hat = np.linalg.solve(X.T @ X, X.T @ y)\n",
    "\n",
    "    return pl.Series(X @ beta_hat)"
   ],
   "id": "975adc66050fdbd2",
   "outputs": [],
   "execution_count": 4
  },
  {
   "metadata": {
    "ExecuteTime": {
     "end_time": "2025-07-12T09:07:49.130761Z",
     "start_time": "2025-07-12T09:07:49.126331Z"
    }
   },
   "cell_type": "code",
   "source": [
    "df_prediction_list_validate = [pl.DataFrame(), pl.DataFrame(), pl.DataFrame()]\n",
    "df_prediction_list_meta_model = [pl.DataFrame(), pl.DataFrame(), pl.DataFrame()]\n",
    "eras_meta_model = df_meta_model['era'].unique().to_list()"
   ],
   "id": "4eb24c9a0070025",
   "outputs": [],
   "execution_count": 5
  },
  {
   "metadata": {
    "ExecuteTime": {
     "end_time": "2025-07-12T09:57:47.702211Z",
     "start_time": "2025-07-12T09:07:57.799575Z"
    }
   },
   "cell_type": "code",
   "source": [
    "# forecast with each model for each fold\n",
    "for index in range(20):\n",
    "    for fold in range(3):\n",
    "        model = lgb.Booster(model_file=f\"{DATA_PATH}/models/lgb/lgb_model_{index}_{fold}.txt\")\n",
    "\n",
    "        df_validate_with_prediction = df_validate_list[fold].with_columns(\n",
    "            prediction=pl.Series(model.predict(df_validate_list[fold][selected_features].to_numpy()))\n",
    "        )\n",
    "        df_meta_model_with_prediction = df_meta_model.with_columns(\n",
    "            prediction=pl.Series(model.predict(df_meta_model[selected_features].to_numpy()))\n",
    "        )\n",
    "\n",
    "        df_validate_with_prediction = df_validate_with_prediction.with_columns(\n",
    "            prediction_normalised=((pl.col('prediction') - pl.col('prediction').min()) / (\n",
    "                    pl.col('prediction').max() - pl.col('prediction').min())).over('era')\n",
    "        )\n",
    "        df_meta_model_with_prediction = df_meta_model_with_prediction.with_columns(\n",
    "            prediction_normalised=((pl.col('prediction') - pl.col('prediction').min()) / (\n",
    "                        pl.col('prediction').max() - pl.col('prediction').min())).over('era')\n",
    "        )\n",
    "\n",
    "        df_prediction_list_validate[fold] = df_prediction_list_validate[fold].with_columns(\n",
    "            df_validate_with_prediction['prediction_normalised'].alias(f'model_{index}')\n",
    "        )\n",
    "        df_prediction_list_meta_model[fold] = df_prediction_list_meta_model[fold].with_columns(\n",
    "            df_meta_model_with_prediction['prediction_normalised'].alias(f'model_{index}')\n",
    "        )\n",
    "\n",
    "        print(f'{datetime.now().strftime(\"%H:%M:%S\")} . . . Prediction for model {index}, fold {fold} done.')"
   ],
   "id": "7d466175dedbad4e",
   "outputs": [
    {
     "name": "stdout",
     "output_type": "stream",
     "text": [
      "11:08:24 . . . Prediction for model 0, fold 0 done.\n",
      "11:08:51 . . . Prediction for model 0, fold 1 done.\n",
      "11:09:17 . . . Prediction for model 0, fold 2 done.\n",
      "11:10:03 . . . Prediction for model 1, fold 0 done.\n",
      "11:10:47 . . . Prediction for model 1, fold 1 done.\n",
      "11:11:33 . . . Prediction for model 1, fold 2 done.\n",
      "11:12:24 . . . Prediction for model 2, fold 0 done.\n",
      "11:13:15 . . . Prediction for model 2, fold 1 done.\n",
      "11:14:03 . . . Prediction for model 2, fold 2 done.\n",
      "11:15:02 . . . Prediction for model 3, fold 0 done.\n",
      "11:15:59 . . . Prediction for model 3, fold 1 done.\n",
      "11:16:56 . . . Prediction for model 3, fold 2 done.\n",
      "11:18:19 . . . Prediction for model 4, fold 0 done.\n",
      "11:19:43 . . . Prediction for model 4, fold 1 done.\n",
      "11:21:06 . . . Prediction for model 4, fold 2 done.\n",
      "11:21:59 . . . Prediction for model 5, fold 0 done.\n",
      "11:22:51 . . . Prediction for model 5, fold 1 done.\n",
      "11:23:43 . . . Prediction for model 5, fold 2 done.\n",
      "11:24:24 . . . Prediction for model 6, fold 0 done.\n",
      "11:25:04 . . . Prediction for model 6, fold 1 done.\n",
      "11:25:42 . . . Prediction for model 6, fold 2 done.\n",
      "11:26:26 . . . Prediction for model 7, fold 0 done.\n",
      "11:27:09 . . . Prediction for model 7, fold 1 done.\n",
      "11:27:53 . . . Prediction for model 7, fold 2 done.\n",
      "11:28:32 . . . Prediction for model 8, fold 0 done.\n",
      "11:29:12 . . . Prediction for model 8, fold 1 done.\n",
      "11:29:53 . . . Prediction for model 8, fold 2 done.\n",
      "11:31:06 . . . Prediction for model 9, fold 0 done.\n",
      "11:32:17 . . . Prediction for model 9, fold 1 done.\n",
      "11:33:29 . . . Prediction for model 9, fold 2 done.\n",
      "11:34:18 . . . Prediction for model 10, fold 0 done.\n",
      "11:35:04 . . . Prediction for model 10, fold 1 done.\n",
      "11:35:50 . . . Prediction for model 10, fold 2 done.\n",
      "11:36:44 . . . Prediction for model 11, fold 0 done.\n",
      "11:37:39 . . . Prediction for model 11, fold 1 done.\n",
      "11:38:31 . . . Prediction for model 11, fold 2 done.\n",
      "11:39:26 . . . Prediction for model 12, fold 0 done.\n",
      "11:40:19 . . . Prediction for model 12, fold 1 done.\n",
      "11:41:11 . . . Prediction for model 12, fold 2 done.\n",
      "11:41:35 . . . Prediction for model 13, fold 0 done.\n",
      "11:41:59 . . . Prediction for model 13, fold 1 done.\n",
      "11:42:23 . . . Prediction for model 13, fold 2 done.\n",
      "11:43:27 . . . Prediction for model 14, fold 0 done.\n",
      "11:44:35 . . . Prediction for model 14, fold 1 done.\n",
      "11:45:40 . . . Prediction for model 14, fold 2 done.\n",
      "11:46:58 . . . Prediction for model 15, fold 0 done.\n",
      "11:48:18 . . . Prediction for model 15, fold 1 done.\n",
      "11:49:40 . . . Prediction for model 15, fold 2 done.\n",
      "11:50:22 . . . Prediction for model 16, fold 0 done.\n",
      "11:51:11 . . . Prediction for model 16, fold 1 done.\n",
      "11:52:08 . . . Prediction for model 16, fold 2 done.\n",
      "11:52:36 . . . Prediction for model 17, fold 0 done.\n",
      "11:53:05 . . . Prediction for model 17, fold 1 done.\n",
      "11:53:33 . . . Prediction for model 17, fold 2 done.\n",
      "11:54:20 . . . Prediction for model 18, fold 0 done.\n",
      "11:55:06 . . . Prediction for model 18, fold 1 done.\n",
      "11:55:52 . . . Prediction for model 18, fold 2 done.\n",
      "11:56:31 . . . Prediction for model 19, fold 0 done.\n",
      "11:57:10 . . . Prediction for model 19, fold 1 done.\n",
      "11:57:47 . . . Prediction for model 19, fold 2 done.\n"
     ]
    }
   ],
   "execution_count": 6
  },
  {
   "metadata": {
    "ExecuteTime": {
     "end_time": "2025-07-12T10:07:52.257728Z",
     "start_time": "2025-07-12T10:07:52.255683Z"
    }
   },
   "cell_type": "code",
   "source": [
    "ensembled_models = []\n",
    "df_prediction_ensemble_list_validate = [pl.DataFrame(), pl.DataFrame(), pl.DataFrame()]\n",
    "df_prediction_ensemble_list_meta_model = [pl.DataFrame(), pl.DataFrame(), pl.DataFrame()]\n",
    "best_score_2 = -1\n",
    "stop_counter = 0\n",
    "i = 0\n",
    "stopping_condition = 3"
   ],
   "id": "ccca7779f58eb02e",
   "outputs": [],
   "execution_count": 7
  },
  {
   "metadata": {
    "ExecuteTime": {
     "end_time": "2025-07-12T10:08:34.316169Z",
     "start_time": "2025-07-12T10:07:54.579532Z"
    }
   },
   "cell_type": "code",
   "source": [
    "while stop_counter < stopping_condition:\n",
    "    best_score_0_and_1 = 0\n",
    "    add = -1\n",
    "\n",
    "    for index in range(20):\n",
    "        df_prediction_ensemble_list_validate_copy = df_prediction_ensemble_list_validate.copy()\n",
    "        df_prediction_ensemble_list_meta_model_copy = df_prediction_ensemble_list_meta_model.copy()\n",
    "        for fold in range(3):\n",
    "            df_prediction_ensemble_list_validate_copy[fold] = df_prediction_ensemble_list_validate_copy[fold].with_columns(\n",
    "                model_under_test=df_prediction_list_validate[fold][f'model_{index}']\n",
    "            )\n",
    "            df_prediction_ensemble_list_meta_model_copy[fold] = df_prediction_ensemble_list_meta_model_copy[\n",
    "                fold].with_columns(\n",
    "                model_under_test=df_prediction_list_meta_model[fold][f'model_{index}']\n",
    "            )\n",
    "\n",
    "        performance_list = []\n",
    "        for fold in range(2):\n",
    "            df_validate_with_prediction = df_validate_list[fold].with_columns(\n",
    "                prediction=df_prediction_ensemble_list_validate_copy[fold].mean_horizontal()\n",
    "            )\n",
    "            df_meta_model_with_prediction = df_meta_model.with_columns(\n",
    "                prediction=df_prediction_ensemble_list_meta_model_copy[fold].mean_horizontal()\n",
    "            )\n",
    "            performance, _, _, _ = performance_approximation(\n",
    "                df_validate_with_prediction,\n",
    "                df_meta_model_with_prediction,\n",
    "                fold\n",
    "            )\n",
    "            performance_list.append(performance)\n",
    "        score_0_and_1 = np.mean(performance_list)\n",
    "\n",
    "        if score_0_and_1 > best_score_0_and_1:\n",
    "            best_score_0_and_1 = score_0_and_1\n",
    "            add = index\n",
    "\n",
    "    ensembled_models.append(add)\n",
    "    for fold in range(3):\n",
    "        df_prediction_ensemble_list_validate[fold] = df_prediction_ensemble_list_validate[fold].with_columns(\n",
    "            df_prediction_list_validate[fold][f'model_{add}'].alias(f'model_{add}_{i}')\n",
    "        )\n",
    "        df_prediction_ensemble_list_meta_model[fold] = df_prediction_ensemble_list_meta_model[fold].with_columns(\n",
    "            df_prediction_list_meta_model[fold][f'model_{add}'].alias(f'model_{add}_{i}')\n",
    "        )\n",
    "\n",
    "    df_validate_with_prediction = df_validate_list[2].with_columns(\n",
    "        prediction=df_prediction_ensemble_list_validate[2].mean_horizontal()\n",
    "    )\n",
    "    df_meta_model_with_prediction = df_meta_model.with_columns(\n",
    "        prediction=df_prediction_ensemble_list_meta_model[2].mean_horizontal()\n",
    "    )\n",
    "    score_2, corr_2, corr_w_mm_2, mmc_approximation_2 = performance_approximation(\n",
    "        df_validate_with_prediction,\n",
    "        df_meta_model_with_prediction,\n",
    "        2\n",
    "    )\n",
    "\n",
    "    if score_2 > best_score_2:\n",
    "        best_score_2 = score_2\n",
    "        stop_counter = 0\n",
    "    else:\n",
    "        stop_counter = stop_counter + 1\n",
    "\n",
    "    print(\n",
    "        f'{datetime.now().strftime(\"%H:%M:%S\")} . . . Added model {add}. Score on val 0 & 1: {best_score_0_and_1}. Score on val 2: {score_2:.5f}, correlation: {corr_2:.5f}, correlation with meta model: {corr_w_mm_2:.5f}, MMC (approx.): {mmc_approximation_2:.5f}.')\n",
    "    i += 1"
   ],
   "id": "4d70f874e764c275",
   "outputs": [
    {
     "name": "stdout",
     "output_type": "stream",
     "text": [
      "12:07:54 . . . Model 0 score on val 0 & 1: 0.0355223881469549\n",
      "12:07:55 . . . Model 1 score on val 0 & 1: 0.03392802885905142\n",
      "12:07:55 . . . Model 2 score on val 0 & 1: 0.03389716407158171\n",
      "12:07:55 . . . Model 3 score on val 0 & 1: 0.03325100189668005\n",
      "12:07:56 . . . Model 4 score on val 0 & 1: 0.03307967579391572\n",
      "12:07:56 . . . Model 5 score on val 0 & 1: 0.03290794630283056\n",
      "12:07:56 . . . Model 6 score on val 0 & 1: 0.03275800328965682\n",
      "12:07:57 . . . Model 7 score on val 0 & 1: 0.03267116247147015\n",
      "12:07:57 . . . Model 8 score on val 0 & 1: 0.03257229002834622\n",
      "12:07:57 . . . Model 9 score on val 0 & 1: 0.03235837688451197\n",
      "12:07:58 . . . Model 10 score on val 0 & 1: 0.03212908761224006\n",
      "12:07:58 . . . Model 11 score on val 0 & 1: 0.03183312609901347\n",
      "12:07:58 . . . Model 12 score on val 0 & 1: 0.0315422281991812\n",
      "12:07:59 . . . Model 13 score on val 0 & 1: 0.03150828320349001\n",
      "12:07:59 . . . Model 14 score on val 0 & 1: 0.03142385490716504\n",
      "12:07:59 . . . Model 15 score on val 0 & 1: 0.031314289195949224\n",
      "12:08:00 . . . Model 16 score on val 0 & 1: 0.031076138494937768\n",
      "12:08:00 . . . Model 17 score on val 0 & 1: 0.031026429272879172\n",
      "12:08:00 . . . Model 18 score on val 0 & 1: 0.030952219742437607\n",
      "12:08:01 . . . Model 19 score on val 0 & 1: 0.03094035361226604\n",
      "12:08:01 . . . Added model 0. Score on val 0 & 1: 0.0355223881469549. Score on val 2: 0.01041, correlation: 0.02426, correlation with meta model: 0.71779, MMC (approx.): -0.00086.\n",
      "12:08:01 . . . Model 0 score on val 0 & 1: 0.0355223881469549\n",
      "12:08:01 . . . Model 1 score on val 0 & 1: 0.03536782186104351\n",
      "12:08:02 . . . Model 2 score on val 0 & 1: 0.03517717293016891\n",
      "12:08:02 . . . Model 3 score on val 0 & 1: 0.03477265758824913\n",
      "12:08:02 . . . Model 4 score on val 0 & 1: 0.03472122478615337\n",
      "12:08:03 . . . Model 5 score on val 0 & 1: 0.03469174097826258\n",
      "12:08:03 . . . Model 6 score on val 0 & 1: 0.03459345594007328\n",
      "12:08:03 . . . Model 7 score on val 0 & 1: 0.03468906517911392\n",
      "12:08:04 . . . Model 8 score on val 0 & 1: 0.034459302138662315\n",
      "12:08:04 . . . Model 9 score on val 0 & 1: 0.034788518967721956\n",
      "12:08:04 . . . Model 10 score on val 0 & 1: 0.034418929139841695\n",
      "12:08:05 . . . Model 11 score on val 0 & 1: 0.03401129892864363\n",
      "12:08:05 . . . Model 12 score on val 0 & 1: 0.03400403456920338\n",
      "12:08:05 . . . Model 13 score on val 0 & 1: 0.03421146687679792\n",
      "12:08:06 . . . Model 14 score on val 0 & 1: 0.034666722696370306\n",
      "12:08:06 . . . Model 15 score on val 0 & 1: 0.033989140362433515\n",
      "12:08:06 . . . Model 16 score on val 0 & 1: 0.03394116446160868\n",
      "12:08:07 . . . Model 17 score on val 0 & 1: 0.03389511912052319\n",
      "12:08:07 . . . Model 18 score on val 0 & 1: 0.034690822326399466\n",
      "12:08:07 . . . Model 19 score on val 0 & 1: 0.033844805821748675\n",
      "12:08:07 . . . Added model 0. Score on val 0 & 1: 0.0355223881469549. Score on val 2: 0.01041, correlation: 0.02426, correlation with meta model: 0.71779, MMC (approx.): -0.00086.\n",
      "12:08:08 . . . Model 0 score on val 0 & 1: 0.0355223881469549\n",
      "12:08:08 . . . Model 1 score on val 0 & 1: 0.03552463293381284\n",
      "12:08:08 . . . Model 2 score on val 0 & 1: 0.035411851966160576\n",
      "12:08:09 . . . Model 3 score on val 0 & 1: 0.0350805447888747\n",
      "12:08:09 . . . Model 4 score on val 0 & 1: 0.0351012984473826\n",
      "12:08:09 . . . Model 5 score on val 0 & 1: 0.03508514252888932\n",
      "12:08:10 . . . Model 6 score on val 0 & 1: 0.035082743913828984\n",
      "12:08:10 . . . Model 7 score on val 0 & 1: 0.03511249145436936\n",
      "12:08:10 . . . Model 8 score on val 0 & 1: 0.03491471487005677\n",
      "12:08:11 . . . Model 9 score on val 0 & 1: 0.03521770849974051\n",
      "12:08:11 . . . Model 10 score on val 0 & 1: 0.0348810243636658\n",
      "12:08:11 . . . Model 11 score on val 0 & 1: 0.03458334039510343\n",
      "12:08:12 . . . Model 12 score on val 0 & 1: 0.03457008713136235\n",
      "12:08:12 . . . Model 13 score on val 0 & 1: 0.03483622895816997\n",
      "12:08:12 . . . Model 14 score on val 0 & 1: 0.035165268734507205\n",
      "12:08:12 . . . Model 15 score on val 0 & 1: 0.0345975444188575\n",
      "12:08:13 . . . Model 16 score on val 0 & 1: 0.03462857171376691\n",
      "12:08:13 . . . Model 17 score on val 0 & 1: 0.034603853227411045\n",
      "12:08:13 . . . Model 18 score on val 0 & 1: 0.03523034450165358\n",
      "12:08:14 . . . Model 19 score on val 0 & 1: 0.034548680875562524\n",
      "12:08:14 . . . Added model 1. Score on val 0 & 1: 0.03552463293381284. Score on val 2: 0.01152, correlation: 0.02482, correlation with meta model: 0.72198, MMC (approx.): -0.00045.\n",
      "12:08:14 . . . Model 0 score on val 0 & 1: 0.035545664803610225\n",
      "12:08:15 . . . Model 1 score on val 0 & 1: 0.03536782186104351\n",
      "12:08:15 . . . Model 2 score on val 0 & 1: 0.03541172162526163\n",
      "12:08:15 . . . Model 3 score on val 0 & 1: 0.03516437266000986\n",
      "12:08:16 . . . Model 4 score on val 0 & 1: 0.03517982393277979\n",
      "12:08:16 . . . Model 5 score on val 0 & 1: 0.035128908826581554\n",
      "12:08:16 . . . Model 6 score on val 0 & 1: 0.03514235347640448\n",
      "12:08:17 . . . Model 7 score on val 0 & 1: 0.03518304139265596\n",
      "12:08:17 . . . Model 8 score on val 0 & 1: 0.035048821851826256\n",
      "12:08:17 . . . Model 9 score on val 0 & 1: 0.03527909806278582\n",
      "12:08:17 . . . Model 10 score on val 0 & 1: 0.035022549312983084\n",
      "12:08:18 . . . Model 11 score on val 0 & 1: 0.034768480348604344\n",
      "12:08:18 . . . Model 12 score on val 0 & 1: 0.034819203205974356\n",
      "12:08:18 . . . Model 13 score on val 0 & 1: 0.03497985087858542\n",
      "12:08:19 . . . Model 14 score on val 0 & 1: 0.03513026380363311\n",
      "12:08:19 . . . Model 15 score on val 0 & 1: 0.03485840910903246\n",
      "12:08:19 . . . Model 16 score on val 0 & 1: 0.034803347398345036\n",
      "12:08:20 . . . Model 17 score on val 0 & 1: 0.0348862187766191\n",
      "12:08:20 . . . Model 18 score on val 0 & 1: 0.035262837641271555\n",
      "12:08:20 . . . Model 19 score on val 0 & 1: 0.034851612096430694\n",
      "12:08:21 . . . Added model 0. Score on val 0 & 1: 0.035545664803610225. Score on val 2: 0.01126, correlation: 0.02473, correlation with meta model: 0.72234, MMC (approx.): -0.00055.\n",
      "12:08:21 . . . Model 0 score on val 0 & 1: 0.035578027111357144\n",
      "12:08:21 . . . Model 1 score on val 0 & 1: 0.035465257656678885\n",
      "12:08:22 . . . Model 2 score on val 0 & 1: 0.03547958777540154\n",
      "12:08:22 . . . Model 3 score on val 0 & 1: 0.0352642598776749\n",
      "12:08:22 . . . Model 4 score on val 0 & 1: 0.03528258861106036\n",
      "12:08:22 . . . Model 5 score on val 0 & 1: 0.03524106085377454\n",
      "12:08:23 . . . Model 6 score on val 0 & 1: 0.03528681350361971\n",
      "12:08:23 . . . Model 7 score on val 0 & 1: 0.035315116268459484\n",
      "12:08:23 . . . Model 8 score on val 0 & 1: 0.03522142111266581\n",
      "12:08:24 . . . Model 9 score on val 0 & 1: 0.03540573725345798\n",
      "12:08:24 . . . Model 10 score on val 0 & 1: 0.035169115611575104\n",
      "12:08:24 . . . Model 11 score on val 0 & 1: 0.034988060195564503\n",
      "12:08:25 . . . Model 12 score on val 0 & 1: 0.03499574536426417\n",
      "12:08:25 . . . Model 13 score on val 0 & 1: 0.03516519784979754\n",
      "12:08:25 . . . Model 14 score on val 0 & 1: 0.03531363728324844\n",
      "12:08:26 . . . Model 15 score on val 0 & 1: 0.035047913677153\n",
      "12:08:26 . . . Model 16 score on val 0 & 1: 0.0350184901726742\n",
      "12:08:26 . . . Model 17 score on val 0 & 1: 0.03506202120594487\n",
      "12:08:27 . . . Model 18 score on val 0 & 1: 0.03539052867614391\n",
      "12:08:27 . . . Model 19 score on val 0 & 1: 0.03503774720865031\n",
      "12:08:27 . . . Added model 0. Score on val 0 & 1: 0.035578027111357144. Score on val 2: 0.01101, correlation: 0.02462, correlation with meta model: 0.72210, MMC (approx.): -0.00065.\n",
      "12:08:27 . . . Model 0 score on val 0 & 1: 0.035577293455426325\n",
      "12:08:28 . . . Model 1 score on val 0 & 1: 0.03552463293381284\n",
      "12:08:28 . . . Model 2 score on val 0 & 1: 0.035501114456984895\n",
      "12:08:28 . . . Model 3 score on val 0 & 1: 0.03530799924808229\n",
      "12:08:29 . . . Model 4 score on val 0 & 1: 0.03535048471534556\n",
      "12:08:29 . . . Model 5 score on val 0 & 1: 0.03532020327210807\n",
      "12:08:29 . . . Model 6 score on val 0 & 1: 0.03535743265873092\n",
      "12:08:30 . . . Model 7 score on val 0 & 1: 0.035399856408371275\n",
      "12:08:30 . . . Model 8 score on val 0 & 1: 0.035280946637352456\n",
      "12:08:30 . . . Model 9 score on val 0 & 1: 0.035473969705417475\n",
      "12:08:31 . . . Model 10 score on val 0 & 1: 0.03524645129780473\n",
      "12:08:31 . . . Model 11 score on val 0 & 1: 0.03511316943152859\n",
      "12:08:31 . . . Model 12 score on val 0 & 1: 0.03510320449838093\n",
      "12:08:32 . . . Model 13 score on val 0 & 1: 0.03524467759884962\n",
      "12:08:32 . . . Model 14 score on val 0 & 1: 0.035394293413756606\n",
      "12:08:32 . . . Model 15 score on val 0 & 1: 0.035155051812874705\n",
      "12:08:33 . . . Model 16 score on val 0 & 1: 0.03513118442303209\n",
      "12:08:33 . . . Model 17 score on val 0 & 1: 0.03515863454964423\n",
      "12:08:33 . . . Model 18 score on val 0 & 1: 0.03544520867332926\n",
      "12:08:34 . . . Model 19 score on val 0 & 1: 0.03513697730395615\n",
      "12:08:34 . . . Added model 0. Score on val 0 & 1: 0.035577293455426325. Score on val 2: 0.01091, correlation: 0.02457, correlation with meta model: 0.72176, MMC (approx.): -0.00069.\n"
     ]
    }
   ],
   "execution_count": 8
  },
  {
   "metadata": {
    "ExecuteTime": {
     "end_time": "2025-07-12T11:12:24.403274Z",
     "start_time": "2025-07-12T11:12:24.400684Z"
    }
   },
   "cell_type": "code",
   "source": "ensembled_models = ensembled_models[:-stopping_condition]",
   "id": "84313edd97cc39e0",
   "outputs": [
    {
     "name": "stdout",
     "output_type": "stream",
     "text": [
      "[0, 0, 1]\n"
     ]
    }
   ],
   "execution_count": 51
  },
  {
   "metadata": {
    "ExecuteTime": {
     "end_time": "2025-07-12T11:00:01.728574Z",
     "start_time": "2025-07-12T11:00:01.726325Z"
    }
   },
   "cell_type": "code",
   "source": [
    "df_prediction_ensemble_validate = pl.DataFrame()\n",
    "df_prediction_ensemble_meta_model = pl.DataFrame()"
   ],
   "id": "ab66e26e5365ffba",
   "outputs": [],
   "execution_count": 44
  },
  {
   "metadata": {
    "ExecuteTime": {
     "end_time": "2025-07-12T11:00:05.546525Z",
     "start_time": "2025-07-12T11:00:05.530111Z"
    }
   },
   "cell_type": "code",
   "source": [
    "for i in range(len(ensembled_models)):\n",
    "    index = ensembled_models[i]\n",
    "    df_prediction_ensemble_validate = df_prediction_ensemble_validate.with_columns(\n",
    "        df_prediction_list_validate[2][f'model_{index}'].alias(f'model_{index}_{i}')\n",
    "    )\n",
    "    df_prediction_ensemble_meta_model = df_prediction_ensemble_meta_model.with_columns(\n",
    "        df_prediction_list_meta_model[2][f'model_{index}'].alias(f'model_{index}_{i}')\n",
    "    )\n",
    "\n",
    "df_validate_with_prediction = df_validate_list[2].with_columns(\n",
    "    prediction=df_prediction_ensemble_validate.mean_horizontal()\n",
    ")\n",
    "df_meta_model_with_prediction = df_meta_model.with_columns(\n",
    "    prediction=df_prediction_ensemble_meta_model.mean_horizontal()\n",
    ")"
   ],
   "id": "dbd390359c6b48eb",
   "outputs": [],
   "execution_count": 45
  },
  {
   "metadata": {
    "ExecuteTime": {
     "end_time": "2025-07-12T11:00:10.668097Z",
     "start_time": "2025-07-12T11:00:09.286881Z"
    }
   },
   "cell_type": "code",
   "source": [
    "linear_component_validate = pl.Series(dtype=pl.Float64)\n",
    "linear_component_meta_model = pl.Series(dtype=pl.Float64)\n",
    "\n",
    "# computing the linear component vectorised via Polars structs leads to extremely slow performance\n",
    "\n",
    "eras_val = df_validate_with_prediction['era'].unique(maintain_order=True).to_list()\n",
    "for era in eras_val:\n",
    "    df_era = df_validate_with_prediction.filter(pl.col('era') == era)[selected_features + [\"prediction\"]]\n",
    "    linear_component_validate.extend(get_linear_component(df_era))\n",
    "\n",
    "for era in eras_meta_model:\n",
    "    df_era = df_meta_model_with_prediction.filter(pl.col('era') == era)[selected_features + [\"prediction\"]]\n",
    "    linear_component_meta_model.extend(get_linear_component(df_era))\n",
    "\n",
    "df_validate_with_prediction = df_validate_with_prediction.with_columns(\n",
    "    linear_component=linear_component_validate\n",
    ")\n",
    "df_meta_model_with_prediction = df_meta_model_with_prediction.with_columns(\n",
    "    linear_component=linear_component_meta_model\n",
    ")"
   ],
   "id": "157d6c01fe8b4ff7",
   "outputs": [],
   "execution_count": 46
  },
  {
   "metadata": {
    "ExecuteTime": {
     "end_time": "2025-07-12T11:00:12.930881Z",
     "start_time": "2025-07-12T11:00:12.748476Z"
    }
   },
   "cell_type": "code",
   "source": [
    "performance, corr, corr_w_mm, mmc_approximation = performance_approximation(df_validate_with_prediction, df_meta_model_with_prediction, 2)\n",
    "\n",
    "df_result = pl.DataFrame({\n",
    "    'multiplier': 0.0,\n",
    "    'performance': performance,\n",
    "    'corr': corr,\n",
    "    'corr_w_mm': corr_w_mm,\n",
    "    'mmc_approximation': mmc_approximation\n",
    "})"
   ],
   "id": "244031c4b93ac78f",
   "outputs": [],
   "execution_count": 47
  },
  {
   "metadata": {
    "ExecuteTime": {
     "end_time": "2025-07-12T11:00:15.814897Z",
     "start_time": "2025-07-12T11:00:14.568111Z"
    }
   },
   "cell_type": "code",
   "source": [
    "for multiplier in [-.4, -.5, -.6, -.7, -.8, -.9, -1.0]:\n",
    "    df_validate_with_prediction_copy = df_validate_with_prediction.with_columns(\n",
    "        prediction=pl.col('prediction').add(pl.col('linear_component').mul(multiplier))\n",
    "    )\n",
    "    df_meta_model_with_prediction_copy = df_meta_model_with_prediction.with_columns(\n",
    "        prediction=pl.col('prediction').add(pl.col('linear_component').mul(multiplier))\n",
    "    )\n",
    "\n",
    "    performance, corr, corr_w_mm, mmc_approximation = performance_approximation(df_validate_with_prediction_copy, df_meta_model_with_prediction_copy, 2)\n",
    "\n",
    "    df_result = df_result.vstack(pl.DataFrame({\n",
    "        'multiplier': multiplier,\n",
    "        'performance': performance,\n",
    "        'corr': corr,\n",
    "        'corr_w_mm': corr_w_mm,\n",
    "        'mmc_approximation': mmc_approximation\n",
    "    }))"
   ],
   "id": "62809e5dc5979d1a",
   "outputs": [],
   "execution_count": 48
  },
  {
   "metadata": {
    "ExecuteTime": {
     "end_time": "2025-07-12T11:00:17.224293Z",
     "start_time": "2025-07-12T11:00:17.220671Z"
    }
   },
   "cell_type": "code",
   "source": "df_result",
   "id": "37155d5241a81d9f",
   "outputs": [
    {
     "data": {
      "text/plain": [
       "shape: (8, 5)\n",
       "┌────────────┬─────────────┬──────────┬───────────┬───────────────────┐\n",
       "│ multiplier ┆ performance ┆ corr     ┆ corr_w_mm ┆ mmc_approximation │\n",
       "│ ---        ┆ ---         ┆ ---      ┆ ---       ┆ ---               │\n",
       "│ f64        ┆ f64         ┆ f64      ┆ f64       ┆ f64               │\n",
       "╞════════════╪═════════════╪══════════╪═══════════╪═══════════════════╡\n",
       "│ 0.0        ┆ 0.01152     ┆ 0.024823 ┆ 0.721981  ┆ -0.000446         │\n",
       "│ -0.4       ┆ 0.014189    ┆ 0.024545 ┆ 0.67392   ┆ 0.000958          │\n",
       "│ -0.5       ┆ 0.01498     ┆ 0.02424  ┆ 0.651723  ┆ 0.00143           │\n",
       "│ -0.6       ┆ 0.015776    ┆ 0.023803 ┆ 0.624744  ┆ 0.001937          │\n",
       "│ -0.7       ┆ 0.0166      ┆ 0.023243 ┆ 0.592946  ┆ 0.002489          │\n",
       "│ -0.8       ┆ 0.01737     ┆ 0.022532 ┆ 0.55657   ┆ 0.003052          │\n",
       "│ -0.9       ┆ 0.018006    ┆ 0.021657 ┆ 0.516223  ┆ 0.003589          │\n",
       "│ -1.0       ┆ 0.018596    ┆ 0.020675 ┆ 0.472733  ┆ 0.004129          │\n",
       "└────────────┴─────────────┴──────────┴───────────┴───────────────────┘"
      ],
      "text/html": [
       "<div><style>\n",
       ".dataframe > thead > tr,\n",
       ".dataframe > tbody > tr {\n",
       "  text-align: right;\n",
       "  white-space: pre-wrap;\n",
       "}\n",
       "</style>\n",
       "<small>shape: (8, 5)</small><table border=\"1\" class=\"dataframe\"><thead><tr><th>multiplier</th><th>performance</th><th>corr</th><th>corr_w_mm</th><th>mmc_approximation</th></tr><tr><td>f64</td><td>f64</td><td>f64</td><td>f64</td><td>f64</td></tr></thead><tbody><tr><td>0.0</td><td>0.01152</td><td>0.024823</td><td>0.721981</td><td>-0.000446</td></tr><tr><td>-0.4</td><td>0.014189</td><td>0.024545</td><td>0.67392</td><td>0.000958</td></tr><tr><td>-0.5</td><td>0.01498</td><td>0.02424</td><td>0.651723</td><td>0.00143</td></tr><tr><td>-0.6</td><td>0.015776</td><td>0.023803</td><td>0.624744</td><td>0.001937</td></tr><tr><td>-0.7</td><td>0.0166</td><td>0.023243</td><td>0.592946</td><td>0.002489</td></tr><tr><td>-0.8</td><td>0.01737</td><td>0.022532</td><td>0.55657</td><td>0.003052</td></tr><tr><td>-0.9</td><td>0.018006</td><td>0.021657</td><td>0.516223</td><td>0.003589</td></tr><tr><td>-1.0</td><td>0.018596</td><td>0.020675</td><td>0.472733</td><td>0.004129</td></tr></tbody></table></div>"
      ]
     },
     "execution_count": 49,
     "metadata": {},
     "output_type": "execute_result"
    }
   ],
   "execution_count": 49
  },
  {
   "metadata": {},
   "cell_type": "markdown",
   "source": "I will use $-.75$ as multiplier, to balance the results of the 3 folds.",
   "id": "b5bd764c87704af5"
  },
  {
   "metadata": {},
   "cell_type": "code",
   "source": [
    "# save parameters\n",
    "\n",
    "study = load_from_pickle(DATA_PATH / 'results/study.pkl')\n",
    "\n",
    "ensembled_models_unique = list(set(ensembled_models))\n",
    "\n",
    "sorted_trials = sorted(study.trials, key=lambda trial: trial.value if trial.value is not None else float('-inf'), reverse=True)\n",
    "trials = [sorted_trials[i] for i in ensembled_models_unique]\n",
    "parameters_list = [trial.params for trial in trials]\n",
    "\n",
    "save_as_pickle(parameters_list, DATA_PATH / 'results/parameters_list.pkl')"
   ],
   "id": "7d9dde733f208d24",
   "outputs": [],
   "execution_count": null
  }
 ],
 "metadata": {
  "kernelspec": {
   "display_name": "Python 3",
   "language": "python",
   "name": "python3"
  },
  "language_info": {
   "codemirror_mode": {
    "name": "ipython",
    "version": 2
   },
   "file_extension": ".py",
   "mimetype": "text/x-python",
   "name": "python",
   "nbconvert_exporter": "python",
   "pygments_lexer": "ipython2",
   "version": "2.7.6"
  }
 },
 "nbformat": 4,
 "nbformat_minor": 5
}
