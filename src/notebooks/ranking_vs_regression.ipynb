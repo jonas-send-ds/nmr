{
 "cells": [
  {
   "cell_type": "code",
   "id": "initial_id",
   "metadata": {
    "collapsed": true,
    "ExecuteTime": {
     "end_time": "2025-06-10T20:06:03.684786Z",
     "start_time": "2025-06-10T20:06:02.777331Z"
    }
   },
   "source": [
    "import polars as pl\n",
    "import lightgbm as lgb\n",
    "\n",
    "from datetime import datetime\n",
    "\n",
    "from src.util.constants import PATH_RAW_TRAIN_SET, PATH_RAW_VALIDATE_SET\n",
    "from src.util.common import mean_grouped_spearman_correlation"
   ],
   "outputs": [],
   "execution_count": 1
  },
  {
   "metadata": {
    "ExecuteTime": {
     "end_time": "2025-06-10T20:06:07.042934Z",
     "start_time": "2025-06-10T20:06:04.708070Z"
    }
   },
   "cell_type": "code",
   "source": [
    "df_train = pl.read_parquet(PATH_RAW_TRAIN_SET)\n",
    "df_validate = pl.read_parquet(PATH_RAW_VALIDATE_SET)"
   ],
   "id": "ca4d1bda768bb81e",
   "outputs": [],
   "execution_count": 2
  },
  {
   "metadata": {
    "ExecuteTime": {
     "end_time": "2025-06-10T20:06:08.636167Z",
     "start_time": "2025-06-10T20:06:08.514508Z"
    }
   },
   "cell_type": "code",
   "source": [
    "df_train = df_train.filter(pl.col(\"target\").is_not_null())\n",
    "df_validate = df_validate.filter(pl.col(\"target\").is_not_null())\n",
    "\n",
    "df_train = df_train.with_columns(pl.col(\"era\").cast(pl.Int16))\n",
    "df_validate = df_validate.with_columns(pl.col(\"era\").cast(pl.Int16))"
   ],
   "id": "655a63b382e58598",
   "outputs": [],
   "execution_count": 3
  },
  {
   "metadata": {
    "ExecuteTime": {
     "end_time": "2025-06-10T20:06:09.955805Z",
     "start_time": "2025-06-10T20:06:09.946374Z"
    }
   },
   "cell_type": "code",
   "source": [
    "df_train = df_train.drop([col for col in df_train.columns if \"target_\" in col] + [\"data_type\", 'id'])\n",
    "df_validate = df_validate.drop([col for col in df_train.columns if \"target_\" in col] + [\"data_type\", 'id'])"
   ],
   "id": "4ec23edb2a852e78",
   "outputs": [],
   "execution_count": 4
  },
  {
   "metadata": {
    "ExecuteTime": {
     "end_time": "2025-06-10T20:06:10.892669Z",
     "start_time": "2025-06-10T20:06:10.837950Z"
    }
   },
   "cell_type": "code",
   "source": [
    "df_train = df_train.with_columns(\n",
    "    pl.col('target').rank(method='random').over('era').cast(pl.Int64).alias('target_ranking')\n",
    ")"
   ],
   "id": "17afc54c7b1dd718",
   "outputs": [],
   "execution_count": 5
  },
  {
   "metadata": {
    "ExecuteTime": {
     "end_time": "2025-06-10T20:06:12.720006Z",
     "start_time": "2025-06-10T20:06:12.029564Z"
    }
   },
   "cell_type": "code",
   "source": [
    "feature_names = [x for x in df_train[0].columns if 'feature' in x]\n",
    "\n",
    "X_train = df_train[feature_names].to_numpy()\n",
    "y_train = df_train['target'].to_numpy()\n",
    "y_train_ranking = df_train['target_ranking'].to_numpy()\n",
    "groups_train = df_train.group_by('era').len().select('len').to_series().to_list()\n",
    "\n",
    "X_validate = df_validate[feature_names].to_numpy()\n",
    "y_validate = df_validate['target'].to_numpy()\n",
    "eras_validate = df_validate['era'].to_numpy()\n",
    "\n",
    "del df_train, df_validate"
   ],
   "id": "926df83e53cabee0",
   "outputs": [],
   "execution_count": 6
  },
  {
   "metadata": {
    "ExecuteTime": {
     "end_time": "2025-06-10T22:43:03.835179Z",
     "start_time": "2025-06-10T21:37:44.549632Z"
    }
   },
   "cell_type": "code",
   "source": [
    "fixed_parameters = {\n",
    "    'metric': 'None',\n",
    "    \"n_jobs\": 12,  # current number of cores on my Mac - set this to hardware cores, not virtual threads\n",
    "    \"subsample_freq\": 1,\n",
    "    \"verbose\": -1\n",
    "}\n",
    "\n",
    "df_result = pl.DataFrame()\n",
    "\n",
    "for num_boost_round in [10, 50, 200]:\n",
    "    for num_leaves in [2**3 - 1, 2**6 - 1, 2**9 - 1, 2**12 - 1]:\n",
    "\n",
    "        parameters = {\n",
    "            **fixed_parameters,\n",
    "            'num_leaves': num_leaves,\n",
    "            'num_boost_round': num_boost_round\n",
    "        }\n",
    "\n",
    "        parameters_regression = {\n",
    "            **parameters,\n",
    "            'objective': 'regression'\n",
    "        }\n",
    "\n",
    "        lgb_train_regression = lgb.Dataset(X_train, label=y_train)\n",
    "\n",
    "        model_regression = lgb.train(\n",
    "            params=parameters_regression,\n",
    "            train_set=lgb_train_regression,\n",
    "            num_boost_round=parameters['num_boost_round']\n",
    "        )\n",
    "\n",
    "        corr_regression = mean_grouped_spearman_correlation(model_regression.predict(X_validate), y_validate, eras_validate)\n",
    "        print(f'{datetime.now().strftime(\"%H:%M:%S\")} . . . Training for regression done.')\n",
    "\n",
    "        parameters_ranking = {\n",
    "            **parameters,\n",
    "            'objective': 'lambdarank',\n",
    "            'label_gain': list(range(max(groups_train) + 1)),  # linear loss, more than max number of tickers per era\n",
    "            'lambdarank_truncation_level': max(groups_train)  # evaluate sorting across all tickers\n",
    "        }\n",
    "\n",
    "        lgb_train_ranking = lgb.Dataset(X_train, label=y_train_ranking, group=groups_train)\n",
    "\n",
    "        model_ranking = lgb.train(\n",
    "            params=parameters_ranking,\n",
    "            train_set=lgb_train_ranking,\n",
    "            num_boost_round=parameters['num_boost_round']\n",
    "        )\n",
    "\n",
    "        corr_ranking = mean_grouped_spearman_correlation(model_ranking.predict(X_validate), y_validate, eras_validate)\n",
    "        print(f'{datetime.now().strftime(\"%H:%M:%S\")} . . . Training for ranking done.')\n",
    "\n",
    "        df_result = df_result.vstack(pl.DataFrame({\n",
    "            'num_leaves': num_leaves,\n",
    "            'num_boost_round': num_boost_round,\n",
    "            'corr_regression': corr_regression,\n",
    "            'corr_ranking': corr_ranking\n",
    "        }))\n",
    "\n",
    "        print(f'{datetime.now().strftime(\"%H:%M:%S\")} . . . Training models for num_leaves={num_leaves} and num_boost_round={num_boost_round} done. Correlation is {corr_regression:5f} for regression and {corr_ranking:5f} for ranking.')"
   ],
   "id": "6f94c9e725690f8f",
   "outputs": [
    {
     "name": "stdout",
     "output_type": "stream",
     "text": [
      "23:45:03 . . . Training for ranking done. Correlation: 0.01782571834148132\n",
      "23:52:38 . . . Training for ranking done. Correlation: 0.018679465340324837\n",
      "00:16:55 . . . Training for ranking done. Correlation: 0.02256481429828645\n",
      "00:43:03 . . . Training for ranking done. Correlation: 0.02046592133459756\n"
     ]
    }
   ],
   "execution_count": 10
  },
  {
   "metadata": {
    "ExecuteTime": {
     "end_time": "2025-06-11T09:41:36.552756Z",
     "start_time": "2025-06-11T09:41:36.321989Z"
    }
   },
   "cell_type": "code",
   "source": "df_result.with_columns(diff=pl.col('corr_regression')-pl.col('corr_ranking')).sort('corr_ranking', descending=True)",
   "id": "5331b2c8c456eb41",
   "outputs": [
    {
     "ename": "ColumnNotFoundError",
     "evalue": "corr_regression",
     "output_type": "error",
     "traceback": [
      "\u001B[31m---------------------------------------------------------------------------\u001B[39m",
      "\u001B[31mColumnNotFoundError\u001B[39m                       Traceback (most recent call last)",
      "\u001B[36mCell\u001B[39m\u001B[36m \u001B[39m\u001B[32mIn[11]\u001B[39m\u001B[32m, line 1\u001B[39m\n\u001B[32m----> \u001B[39m\u001B[32m1\u001B[39m \u001B[43mdf_result\u001B[49m\u001B[43m.\u001B[49m\u001B[43mwith_columns\u001B[49m\u001B[43m(\u001B[49m\u001B[43mdiff\u001B[49m\u001B[43m=\u001B[49m\u001B[43mpl\u001B[49m\u001B[43m.\u001B[49m\u001B[43mcol\u001B[49m\u001B[43m(\u001B[49m\u001B[33;43m'\u001B[39;49m\u001B[33;43mcorr_regression\u001B[39;49m\u001B[33;43m'\u001B[39;49m\u001B[43m)\u001B[49m\u001B[43m-\u001B[49m\u001B[43mpl\u001B[49m\u001B[43m.\u001B[49m\u001B[43mcol\u001B[49m\u001B[43m(\u001B[49m\u001B[33;43m'\u001B[39;49m\u001B[33;43mcorr_ranking\u001B[39;49m\u001B[33;43m'\u001B[39;49m\u001B[43m)\u001B[49m\u001B[43m)\u001B[49m.sort(\u001B[33m'\u001B[39m\u001B[33mcorr_ranking\u001B[39m\u001B[33m'\u001B[39m)\n",
      "\u001B[36mFile \u001B[39m\u001B[32m~/Library/Caches/pypoetry/virtualenvs/nmr-DUJvlELt-py3.13/lib/python3.13/site-packages/polars/dataframe/frame.py:9938\u001B[39m, in \u001B[36mDataFrame.with_columns\u001B[39m\u001B[34m(self, *exprs, **named_exprs)\u001B[39m\n\u001B[32m   9792\u001B[39m \u001B[38;5;250m\u001B[39m\u001B[33;03m\"\"\"\u001B[39;00m\n\u001B[32m   9793\u001B[39m \u001B[33;03mAdd columns to this DataFrame.\u001B[39;00m\n\u001B[32m   9794\u001B[39m \n\u001B[32m   (...)\u001B[39m\u001B[32m   9931\u001B[39m \u001B[33;03m└─────┴──────┴─────────────┘\u001B[39;00m\n\u001B[32m   9932\u001B[39m \u001B[33;03m\"\"\"\u001B[39;00m\n\u001B[32m   9933\u001B[39m \u001B[38;5;28;01mfrom\u001B[39;00m\u001B[38;5;250m \u001B[39m\u001B[34;01mpolars\u001B[39;00m\u001B[34;01m.\u001B[39;00m\u001B[34;01mlazyframe\u001B[39;00m\u001B[34;01m.\u001B[39;00m\u001B[34;01mopt_flags\u001B[39;00m\u001B[38;5;250m \u001B[39m\u001B[38;5;28;01mimport\u001B[39;00m QueryOptFlags\n\u001B[32m   9935\u001B[39m \u001B[38;5;28;01mreturn\u001B[39;00m (\n\u001B[32m   9936\u001B[39m     \u001B[38;5;28;43mself\u001B[39;49m\u001B[43m.\u001B[49m\u001B[43mlazy\u001B[49m\u001B[43m(\u001B[49m\u001B[43m)\u001B[49m\n\u001B[32m   9937\u001B[39m \u001B[43m    \u001B[49m\u001B[43m.\u001B[49m\u001B[43mwith_columns\u001B[49m\u001B[43m(\u001B[49m\u001B[43m*\u001B[49m\u001B[43mexprs\u001B[49m\u001B[43m,\u001B[49m\u001B[43m \u001B[49m\u001B[43m*\u001B[49m\u001B[43m*\u001B[49m\u001B[43mnamed_exprs\u001B[49m\u001B[43m)\u001B[49m\n\u001B[32m-> \u001B[39m\u001B[32m9938\u001B[39m \u001B[43m    \u001B[49m\u001B[43m.\u001B[49m\u001B[43mcollect\u001B[49m\u001B[43m(\u001B[49m\u001B[43moptimizations\u001B[49m\u001B[43m=\u001B[49m\u001B[43mQueryOptFlags\u001B[49m\u001B[43m.\u001B[49m\u001B[43m_eager\u001B[49m\u001B[43m(\u001B[49m\u001B[43m)\u001B[49m\u001B[43m)\u001B[49m\n\u001B[32m   9939\u001B[39m )\n",
      "\u001B[36mFile \u001B[39m\u001B[32m~/Library/Caches/pypoetry/virtualenvs/nmr-DUJvlELt-py3.13/lib/python3.13/site-packages/polars/_utils/deprecation.py:97\u001B[39m, in \u001B[36mdeprecate_streaming_parameter.<locals>.decorate.<locals>.wrapper\u001B[39m\u001B[34m(*args, **kwargs)\u001B[39m\n\u001B[32m     93\u001B[39m         kwargs[\u001B[33m\"\u001B[39m\u001B[33mengine\u001B[39m\u001B[33m\"\u001B[39m] = \u001B[33m\"\u001B[39m\u001B[33min-memory\u001B[39m\u001B[33m\"\u001B[39m\n\u001B[32m     95\u001B[39m     \u001B[38;5;28;01mdel\u001B[39;00m kwargs[\u001B[33m\"\u001B[39m\u001B[33mstreaming\u001B[39m\u001B[33m\"\u001B[39m]\n\u001B[32m---> \u001B[39m\u001B[32m97\u001B[39m \u001B[38;5;28;01mreturn\u001B[39;00m \u001B[43mfunction\u001B[49m\u001B[43m(\u001B[49m\u001B[43m*\u001B[49m\u001B[43margs\u001B[49m\u001B[43m,\u001B[49m\u001B[43m \u001B[49m\u001B[43m*\u001B[49m\u001B[43m*\u001B[49m\u001B[43mkwargs\u001B[49m\u001B[43m)\u001B[49m\n",
      "\u001B[36mFile \u001B[39m\u001B[32m~/Library/Caches/pypoetry/virtualenvs/nmr-DUJvlELt-py3.13/lib/python3.13/site-packages/polars/lazyframe/opt_flags.py:331\u001B[39m, in \u001B[36mforward_old_opt_flags.<locals>.decorate.<locals>.wrapper\u001B[39m\u001B[34m(*args, **kwargs)\u001B[39m\n\u001B[32m    328\u001B[39m         optflags = cb(optflags, kwargs.pop(key))  \u001B[38;5;66;03m# type: ignore[no-untyped-call,unused-ignore]\u001B[39;00m\n\u001B[32m    330\u001B[39m kwargs[\u001B[33m\"\u001B[39m\u001B[33moptimizations\u001B[39m\u001B[33m\"\u001B[39m] = optflags\n\u001B[32m--> \u001B[39m\u001B[32m331\u001B[39m \u001B[38;5;28;01mreturn\u001B[39;00m \u001B[43mfunction\u001B[49m\u001B[43m(\u001B[49m\u001B[43m*\u001B[49m\u001B[43margs\u001B[49m\u001B[43m,\u001B[49m\u001B[43m \u001B[49m\u001B[43m*\u001B[49m\u001B[43m*\u001B[49m\u001B[43mkwargs\u001B[49m\u001B[43m)\u001B[49m\n",
      "\u001B[36mFile \u001B[39m\u001B[32m~/Library/Caches/pypoetry/virtualenvs/nmr-DUJvlELt-py3.13/lib/python3.13/site-packages/polars/lazyframe/frame.py:2300\u001B[39m, in \u001B[36mLazyFrame.collect\u001B[39m\u001B[34m(self, type_coercion, predicate_pushdown, projection_pushdown, simplify_expression, slice_pushdown, comm_subplan_elim, comm_subexpr_elim, cluster_with_columns, collapse_joins, no_optimization, engine, background, optimizations, **_kwargs)\u001B[39m\n\u001B[32m   2298\u001B[39m \u001B[38;5;66;03m# Only for testing purposes\u001B[39;00m\n\u001B[32m   2299\u001B[39m callback = _kwargs.get(\u001B[33m\"\u001B[39m\u001B[33mpost_opt_callback\u001B[39m\u001B[33m\"\u001B[39m, callback)\n\u001B[32m-> \u001B[39m\u001B[32m2300\u001B[39m \u001B[38;5;28;01mreturn\u001B[39;00m wrap_df(\u001B[43mldf\u001B[49m\u001B[43m.\u001B[49m\u001B[43mcollect\u001B[49m\u001B[43m(\u001B[49m\u001B[43mengine\u001B[49m\u001B[43m,\u001B[49m\u001B[43m \u001B[49m\u001B[43mcallback\u001B[49m\u001B[43m)\u001B[49m)\n",
      "\u001B[31mColumnNotFoundError\u001B[39m: corr_regression"
     ]
    }
   ],
   "execution_count": 11
  },
  {
   "metadata": {},
   "cell_type": "markdown",
   "source": "Regression consistently outperforms ranking.",
   "id": "4b88facaaed5ade0"
  }
 ],
 "metadata": {
  "kernelspec": {
   "display_name": "Python 3",
   "language": "python",
   "name": "python3"
  },
  "language_info": {
   "codemirror_mode": {
    "name": "ipython",
    "version": 2
   },
   "file_extension": ".py",
   "mimetype": "text/x-python",
   "name": "python",
   "nbconvert_exporter": "python",
   "pygments_lexer": "ipython2",
   "version": "2.7.6"
  }
 },
 "nbformat": 4,
 "nbformat_minor": 5
}
