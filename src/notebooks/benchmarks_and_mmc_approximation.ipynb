{
 "cells": [
  {
   "cell_type": "code",
   "id": "initial_id",
   "metadata": {
    "collapsed": true,
    "ExecuteTime": {
     "end_time": "2025-06-17T13:29:00.618817Z",
     "start_time": "2025-06-17T13:29:00.387245Z"
    }
   },
   "source": [
    "import polars as pl\n",
    "import lightgbm as lgb\n",
    "import numpy as np\n",
    "\n",
    "from datetime import datetime\n",
    "\n",
    "from src.util.common import mean_grouped_spearman_correlation\n",
    "from src.util.constants import DATA_PATH, FIXED_LGB_PARAMETERS"
   ],
   "outputs": [],
   "execution_count": 1
  },
  {
   "metadata": {
    "ExecuteTime": {
     "end_time": "2025-06-17T13:29:02.032823Z",
     "start_time": "2025-06-17T13:29:01.421498Z"
    }
   },
   "cell_type": "code",
   "source": [
    "df_meta_model = pl.read_parquet(f'{DATA_PATH}/folds/df_meta_model.parquet')\n",
    "feature_names = [x for x in df_meta_model.columns if 'feature' in x]\n",
    "X_meta_model = df_meta_model[feature_names].to_numpy()\n",
    "X_meta_model = np.hstack([np.ones((X_meta_model.shape[0], 1)), X_meta_model])"
   ],
   "id": "66a157646b350dfd",
   "outputs": [],
   "execution_count": 2
  },
  {
   "metadata": {},
   "cell_type": "markdown",
   "source": "### linear model",
   "id": "cc7fb6e4c1ff6f93"
  },
  {
   "metadata": {
    "ExecuteTime": {
     "end_time": "2025-06-17T13:04:20.065765Z",
     "start_time": "2025-06-17T12:59:57.706979Z"
    }
   },
   "cell_type": "code",
   "source": [
    "df_result_linear = pl.DataFrame()\n",
    "\n",
    "for fold in range(3):\n",
    "    df_train = pl.read_parquet(f'{DATA_PATH}/folds/df_train_{fold}.parquet')\n",
    "\n",
    "    X = df_train[feature_names].to_numpy()\n",
    "    y = df_train['target'].to_numpy()\n",
    "    del df_train\n",
    "    X = np.hstack([np.ones((X.shape[0], 1)), X])\n",
    "\n",
    "    beta_hat = np.linalg.solve(X.T @ X, X.T @ y)\n",
    "    del X, y\n",
    "\n",
    "    df_validate = pl.read_parquet(f'{DATA_PATH}/folds/df_validate_{fold}.parquet')\n",
    "    X_validate = df_validate[feature_names].to_numpy()\n",
    "    X_validate = np.hstack([np.ones((X_validate.shape[0], 1)), X_validate])\n",
    "    df_validate = df_validate.with_columns(\n",
    "        prediction=X_validate @ beta_hat\n",
    "    )\n",
    "    df_meta_model_with_prediction = df_meta_model.with_columns(\n",
    "        prediction=X_meta_model @ beta_hat\n",
    "    )\n",
    "\n",
    "    corr = mean_grouped_spearman_correlation(\n",
    "        df_validate['prediction'],\n",
    "        df_validate['target'],\n",
    "        df_validate['era']\n",
    "    )\n",
    "    corr_w_mm = df_meta_model_with_prediction.select(\n",
    "        pl.corr(\"prediction\", \"numerai_meta_model\", method=\"spearman\")\n",
    "        .over('era', mapping_strategy='explode')\n",
    "    ).mean()[0, 0]\n",
    "\n",
    "    df_result_linear = df_result_linear.vstack(pl.DataFrame({\n",
    "        'fold': fold,\n",
    "        'corr': corr,\n",
    "        'corr_w_mm': corr_w_mm\n",
    "    }))\n",
    "\n",
    "    del df_validate, df_meta_model_with_prediction\n",
    "\n",
    "    print(f'Fold {fold} done.')"
   ],
   "id": "7f24c2b2db5bb389",
   "outputs": [
    {
     "name": "stdout",
     "output_type": "stream",
     "text": [
      "Fold 2 done.\n"
     ]
    }
   ],
   "execution_count": 34
  },
  {
   "metadata": {
    "ExecuteTime": {
     "end_time": "2025-06-17T13:04:24.075995Z",
     "start_time": "2025-06-17T13:04:24.068136Z"
    }
   },
   "cell_type": "code",
   "source": "df_result_linear",
   "id": "79978e5499758b5d",
   "outputs": [
    {
     "data": {
      "text/plain": [
       "shape: (3, 3)\n",
       "┌──────┬──────────┬───────────┐\n",
       "│ fold ┆ corr     ┆ corr_w_mm │\n",
       "│ ---  ┆ ---      ┆ ---       │\n",
       "│ i64  ┆ f64      ┆ f64       │\n",
       "╞══════╪══════════╪═══════════╡\n",
       "│ 0    ┆ 0.022727 ┆ 0.461625  │\n",
       "│ 1    ┆ 0.021811 ┆ 0.49834   │\n",
       "│ 2    ┆ 0.013165 ┆ 0.522116  │\n",
       "└──────┴──────────┴───────────┘"
      ],
      "text/html": [
       "<div><style>\n",
       ".dataframe > thead > tr,\n",
       ".dataframe > tbody > tr {\n",
       "  text-align: right;\n",
       "  white-space: pre-wrap;\n",
       "}\n",
       "</style>\n",
       "<small>shape: (3, 3)</small><table border=\"1\" class=\"dataframe\"><thead><tr><th>fold</th><th>corr</th><th>corr_w_mm</th></tr><tr><td>i64</td><td>f64</td><td>f64</td></tr></thead><tbody><tr><td>0</td><td>0.022727</td><td>0.461625</td></tr><tr><td>1</td><td>0.021811</td><td>0.49834</td></tr><tr><td>2</td><td>0.013165</td><td>0.522116</td></tr></tbody></table></div>"
      ]
     },
     "execution_count": 35,
     "metadata": {},
     "output_type": "execute_result"
    }
   ],
   "execution_count": 35
  },
  {
   "metadata": {},
   "cell_type": "markdown",
   "source": "### Numerai models",
   "id": "c9b49f36bdd10b5b"
  },
  {
   "metadata": {
    "ExecuteTime": {
     "end_time": "2025-06-15T21:47:25.276485Z",
     "start_time": "2025-06-15T21:47:25.270522Z"
    }
   },
   "cell_type": "code",
   "source": [
    "# Parameters from Numerai (compare https://docs.numer.ai/numerai-tournament/models)\n",
    "parameter_dict = {\n",
    "    'standard_large_lgbm': {\n",
    "        \"learning_rate\": 0.001,\n",
    "        \"max_depth\": 6,\n",
    "        \"num_leaves\": 2 ** 6,\n",
    "        \"colsample_bytree\": 0.1,\n",
    "    },\n",
    "    'deep_lgbm': {\n",
    "        \"learning_rate\": 0.001,\n",
    "        \"max_depth\": 10,\n",
    "        \"num_leaves\": 1024,\n",
    "        \"colsample_bytree\": 0.1,\n",
    "        \"min_data_in_leaf\": 10000\n",
    "    }\n",
    "}\n",
    "num_boost_round_dict = {\n",
    "    'standard_large_lgbm': 20000,\n",
    "    'deep_lgbm': 30000,\n",
    "}"
   ],
   "id": "3cf9db789c58b55c",
   "outputs": [],
   "execution_count": 6
  },
  {
   "metadata": {
    "ExecuteTime": {
     "end_time": "2025-06-16T22:37:57.375807Z",
     "start_time": "2025-06-15T21:47:28.417371Z"
    }
   },
   "cell_type": "code",
   "source": [
    "df_result_numerai_lgb = pl.DataFrame()\n",
    "model_deep_2 = None\n",
    "\n",
    "for model_type in parameter_dict:\n",
    "    print(f' Running model {model_type}...')\n",
    "    parameters = {\n",
    "        **FIXED_LGB_PARAMETERS,\n",
    "        **parameter_dict[model_type]\n",
    "    }\n",
    "\n",
    "    for fold in range(3):\n",
    "        df_train = pl.read_parquet(f'{DATA_PATH}/folds/df_train_{fold}.parquet')\n",
    "        feature_names = [x for x in df_train.columns if 'feature' in x]\n",
    "        lgb_train = lgb.Dataset(df_train[feature_names].to_numpy(), label=df_train['target'].to_numpy())\n",
    "\n",
    "        model = lgb.train(\n",
    "            params=parameters,\n",
    "            train_set=lgb_train,\n",
    "            num_boost_round=num_boost_round_dict[model_type]\n",
    "        )\n",
    "        del lgb_train, df_train\n",
    "\n",
    "        df_validate = pl.read_parquet(f'{DATA_PATH}/folds/df_validate_{fold}.parquet')\n",
    "\n",
    "        df_validate = df_validate.with_columns(\n",
    "            prediction=model.predict(df_validate[feature_names].to_numpy())\n",
    "        )\n",
    "        df_meta_model_with_prediction = df_meta_model.with_columns(\n",
    "            prediction=model.predict(df_meta_model[feature_names].to_numpy())\n",
    "        )\n",
    "\n",
    "        corr = mean_grouped_spearman_correlation(\n",
    "            df_validate['prediction'],\n",
    "            df_validate['target'],\n",
    "            df_validate['era']\n",
    "        )\n",
    "        corr_w_mm = df_meta_model_with_prediction.select(\n",
    "            pl.corr(\"prediction\", \"numerai_meta_model\", method=\"spearman\")\n",
    "            .over('era', mapping_strategy='explode')\n",
    "        ).mean()[0, 0]\n",
    "\n",
    "        df_result_numerai_lgb = df_result_numerai_lgb.vstack(pl.DataFrame({\n",
    "            'type': model_type,\n",
    "            'fold': fold,\n",
    "            'corr': corr,\n",
    "            'corr_w_mm': corr_w_mm\n",
    "        }))\n",
    "\n",
    "        if model_type == 'deep_lgbm' and fold == 2:\n",
    "            model_deep_2 = model\n",
    "\n",
    "        del df_validate, df_meta_model_with_prediction\n",
    "\n",
    "        print(f'{datetime.now().strftime(\"%H:%M:%S\")} . . . Type {model_type}, fold {fold} done.')"
   ],
   "id": "bab7aa970274860d",
   "outputs": [
    {
     "name": "stdout",
     "output_type": "stream",
     "text": [
      " Running model standard_large_lgbm_params...\n",
      "Type standard_large_lgbm_params, fold 0 done.\n",
      "Type standard_large_lgbm_params, fold 1 done.\n",
      "Type standard_large_lgbm_params, fold 2 done.\n",
      " Running model deep_lgbm_params...\n",
      "Type deep_lgbm_params, fold 0 done.\n",
      "Type deep_lgbm_params, fold 1 done.\n",
      "Type deep_lgbm_params, fold 2 done.\n"
     ]
    }
   ],
   "execution_count": 7
  },
  {
   "metadata": {
    "ExecuteTime": {
     "end_time": "2025-06-17T13:06:38.972358Z",
     "start_time": "2025-06-17T13:06:38.967351Z"
    }
   },
   "cell_type": "code",
   "source": "df_result_numerai_lgb",
   "id": "44c2b778883747bb",
   "outputs": [
    {
     "data": {
      "text/plain": [
       "shape: (6, 4)\n",
       "┌────────────────────────────┬──────┬──────────┬───────────┐\n",
       "│ type                       ┆ fold ┆ corr     ┆ corr_w_mm │\n",
       "│ ---                        ┆ ---  ┆ ---      ┆ ---       │\n",
       "│ str                        ┆ i64  ┆ f64      ┆ f64       │\n",
       "╞════════════════════════════╪══════╪══════════╪═══════════╡\n",
       "│ standard_large_lgbm_params ┆ 0    ┆ 0.036744 ┆ 0.754296  │\n",
       "│ standard_large_lgbm_params ┆ 1    ┆ 0.036229 ┆ 0.802252  │\n",
       "│ standard_large_lgbm_params ┆ 2    ┆ 0.024072 ┆ 0.841545  │\n",
       "│ deep_lgbm_params           ┆ 0    ┆ 0.040446 ┆ 0.794359  │\n",
       "│ deep_lgbm_params           ┆ 1    ┆ 0.038057 ┆ 0.84461   │\n",
       "│ deep_lgbm_params           ┆ 2    ┆ 0.02745  ┆ 0.886149  │\n",
       "└────────────────────────────┴──────┴──────────┴───────────┘"
      ],
      "text/html": [
       "<div><style>\n",
       ".dataframe > thead > tr,\n",
       ".dataframe > tbody > tr {\n",
       "  text-align: right;\n",
       "  white-space: pre-wrap;\n",
       "}\n",
       "</style>\n",
       "<small>shape: (6, 4)</small><table border=\"1\" class=\"dataframe\"><thead><tr><th>type</th><th>fold</th><th>corr</th><th>corr_w_mm</th></tr><tr><td>str</td><td>i64</td><td>f64</td><td>f64</td></tr></thead><tbody><tr><td>&quot;standard_large_lgbm_params&quot;</td><td>0</td><td>0.036744</td><td>0.754296</td></tr><tr><td>&quot;standard_large_lgbm_params&quot;</td><td>1</td><td>0.036229</td><td>0.802252</td></tr><tr><td>&quot;standard_large_lgbm_params&quot;</td><td>2</td><td>0.024072</td><td>0.841545</td></tr><tr><td>&quot;deep_lgbm_params&quot;</td><td>0</td><td>0.040446</td><td>0.794359</td></tr><tr><td>&quot;deep_lgbm_params&quot;</td><td>1</td><td>0.038057</td><td>0.84461</td></tr><tr><td>&quot;deep_lgbm_params&quot;</td><td>2</td><td>0.02745</td><td>0.886149</td></tr></tbody></table></div>"
      ]
     },
     "execution_count": 41,
     "metadata": {},
     "output_type": "execute_result"
    }
   ],
   "execution_count": 41
  },
  {
   "metadata": {
    "ExecuteTime": {
     "end_time": "2025-06-17T13:13:13.150302Z",
     "start_time": "2025-06-17T13:07:58.975902Z"
    }
   },
   "cell_type": "code",
   "source": [
    "# MMC approximation\n",
    "performance_meta_model = mean_grouped_spearman_correlation(\n",
    "    df_meta_model['numerai_meta_model'],\n",
    "    df_meta_model['target'],\n",
    "    df_meta_model['era']\n",
    ")\n",
    "df_meta_model_with_prediction = df_meta_model.with_columns(\n",
    "    prediction=model_deep_2.predict(df_meta_model[feature_names].to_numpy())\n",
    ")\n",
    "performance_deep_model = mean_grouped_spearman_correlation(\n",
    "    df_meta_model_with_prediction['prediction'],\n",
    "    df_meta_model_with_prediction['target'],\n",
    "    df_meta_model_with_prediction['era']\n",
    ")\n",
    "ratio = performance_meta_model / performance_deep_model\n",
    "\n",
    "df_result_numerai_lgb.filter(pl.col('type') == 'deep_lgbm').select('corr') * ratio"
   ],
   "id": "a7622b130b516b65",
   "outputs": [
    {
     "data": {
      "text/plain": [
       "shape: (0, 1)\n",
       "┌──────┐\n",
       "│ corr │\n",
       "│ ---  │\n",
       "│ f64  │\n",
       "╞══════╡\n",
       "└──────┘"
      ],
      "text/html": [
       "<div><style>\n",
       ".dataframe > thead > tr,\n",
       ".dataframe > tbody > tr {\n",
       "  text-align: right;\n",
       "  white-space: pre-wrap;\n",
       "}\n",
       "</style>\n",
       "<small>shape: (0, 1)</small><table border=\"1\" class=\"dataframe\"><thead><tr><th>corr</th></tr><tr><td>f64</td></tr></thead><tbody></tbody></table></div>"
      ]
     },
     "execution_count": 42,
     "metadata": {},
     "output_type": "execute_result"
    }
   ],
   "execution_count": 42
  },
  {
   "metadata": {
    "ExecuteTime": {
     "end_time": "2025-06-17T13:22:45.098496Z",
     "start_time": "2025-06-17T13:22:45.095558Z"
    }
   },
   "cell_type": "code",
   "source": "df_result_numerai_lgb.filter(pl.col('type') == 'deep_lgbm_params').select('corr') * ratio",
   "id": "2bc523e42d163e45",
   "outputs": [
    {
     "data": {
      "text/plain": [
       "shape: (3, 1)\n",
       "┌──────────┐\n",
       "│ corr     │\n",
       "│ ---      │\n",
       "│ f64      │\n",
       "╞══════════╡\n",
       "│ 0.051137 │\n",
       "│ 0.048117 │\n",
       "│ 0.034706 │\n",
       "└──────────┘"
      ],
      "text/html": [
       "<div><style>\n",
       ".dataframe > thead > tr,\n",
       ".dataframe > tbody > tr {\n",
       "  text-align: right;\n",
       "  white-space: pre-wrap;\n",
       "}\n",
       "</style>\n",
       "<small>shape: (3, 1)</small><table border=\"1\" class=\"dataframe\"><thead><tr><th>corr</th></tr><tr><td>f64</td></tr></thead><tbody><tr><td>0.051137</td></tr><tr><td>0.048117</td></tr><tr><td>0.034706</td></tr></tbody></table></div>"
      ]
     },
     "execution_count": 44,
     "metadata": {},
     "output_type": "execute_result"
    }
   ],
   "execution_count": 44
  },
  {
   "metadata": {},
   "cell_type": "markdown",
   "source": "Using the \"deep\" Numerai model (which has the closest correlation with the meta model) and its performance on the meta-model set (.0285) to approximate meta-model performance on the threee folds, we get .051, .048, and .035.",
   "id": "d5f0b38edcc3ad"
  },
  {
   "metadata": {
    "ExecuteTime": {
     "end_time": "2025-06-17T13:23:13.378272Z",
     "start_time": "2025-06-17T13:23:13.372943Z"
    }
   },
   "cell_type": "code",
   "source": [
    "meta_model_performance = [.051, .048, .035]\n",
    "\n",
    "# calculate performance with updated meta-model performance approximation\n",
    "df_result_numerai_lgb = df_result_numerai_lgb.with_columns(\n",
    "    mmc_approximation = (pl.col('corr') - (pl.col('corr_w_mm') * pl.col('fold').map_elements(lambda x: meta_model_performance[x], return_dtype=pl.Float64)))\n",
    ")\n",
    "df_result_numerai_lgb = df_result_numerai_lgb.with_columns(\n",
    "    performance = .5 * pl.col('corr') + 2 * pl.col('mmc_approximation')\n",
    ")\n",
    "df_result_numerai_lgb"
   ],
   "id": "35512c8690bfec1",
   "outputs": [
    {
     "data": {
      "text/plain": [
       "shape: (6, 6)\n",
       "┌────────────────────────────┬──────┬──────────┬───────────┬───────────────────┬─────────────┐\n",
       "│ type                       ┆ fold ┆ corr     ┆ corr_w_mm ┆ mmc_approximation ┆ performance │\n",
       "│ ---                        ┆ ---  ┆ ---      ┆ ---       ┆ ---               ┆ ---         │\n",
       "│ str                        ┆ i64  ┆ f64      ┆ f64       ┆ f64               ┆ f64         │\n",
       "╞════════════════════════════╪══════╪══════════╪═══════════╪═══════════════════╪═════════════╡\n",
       "│ standard_large_lgbm_params ┆ 0    ┆ 0.036744 ┆ 0.754296  ┆ -0.001725         ┆ 0.014923    │\n",
       "│ standard_large_lgbm_params ┆ 1    ┆ 0.036229 ┆ 0.802252  ┆ -0.00228          ┆ 0.013555    │\n",
       "│ standard_large_lgbm_params ┆ 2    ┆ 0.024072 ┆ 0.841545  ┆ -0.005382         ┆ 0.001271    │\n",
       "│ deep_lgbm_params           ┆ 0    ┆ 0.040446 ┆ 0.794359  ┆ -0.000067         ┆ 0.02009     │\n",
       "│ deep_lgbm_params           ┆ 1    ┆ 0.038057 ┆ 0.84461   ┆ -0.002484         ┆ 0.014061    │\n",
       "│ deep_lgbm_params           ┆ 2    ┆ 0.02745  ┆ 0.886149  ┆ -0.003565         ┆ 0.006594    │\n",
       "└────────────────────────────┴──────┴──────────┴───────────┴───────────────────┴─────────────┘"
      ],
      "text/html": [
       "<div><style>\n",
       ".dataframe > thead > tr,\n",
       ".dataframe > tbody > tr {\n",
       "  text-align: right;\n",
       "  white-space: pre-wrap;\n",
       "}\n",
       "</style>\n",
       "<small>shape: (6, 6)</small><table border=\"1\" class=\"dataframe\"><thead><tr><th>type</th><th>fold</th><th>corr</th><th>corr_w_mm</th><th>mmc_approximation</th><th>performance</th></tr><tr><td>str</td><td>i64</td><td>f64</td><td>f64</td><td>f64</td><td>f64</td></tr></thead><tbody><tr><td>&quot;standard_large_lgbm_params&quot;</td><td>0</td><td>0.036744</td><td>0.754296</td><td>-0.001725</td><td>0.014923</td></tr><tr><td>&quot;standard_large_lgbm_params&quot;</td><td>1</td><td>0.036229</td><td>0.802252</td><td>-0.00228</td><td>0.013555</td></tr><tr><td>&quot;standard_large_lgbm_params&quot;</td><td>2</td><td>0.024072</td><td>0.841545</td><td>-0.005382</td><td>0.001271</td></tr><tr><td>&quot;deep_lgbm_params&quot;</td><td>0</td><td>0.040446</td><td>0.794359</td><td>-0.000067</td><td>0.02009</td></tr><tr><td>&quot;deep_lgbm_params&quot;</td><td>1</td><td>0.038057</td><td>0.84461</td><td>-0.002484</td><td>0.014061</td></tr><tr><td>&quot;deep_lgbm_params&quot;</td><td>2</td><td>0.02745</td><td>0.886149</td><td>-0.003565</td><td>0.006594</td></tr></tbody></table></div>"
      ]
     },
     "execution_count": 45,
     "metadata": {},
     "output_type": "execute_result"
    }
   ],
   "execution_count": 45
  },
  {
   "metadata": {
    "ExecuteTime": {
     "end_time": "2025-06-17T13:23:29.166192Z",
     "start_time": "2025-06-17T13:23:29.159807Z"
    }
   },
   "cell_type": "code",
   "source": [
    "# let's also check the linear model\n",
    "# calculate performance with updated meta-model performance approximation\n",
    "df_result_linear = df_result_linear.with_columns(\n",
    "    mmc_approximation = (pl.col('corr') - (pl.col('corr_w_mm') * pl.col('fold').map_elements(lambda x: meta_model_performance[x], return_dtype=pl.Float64)))\n",
    ")\n",
    "df_result_linear = df_result_linear.with_columns(\n",
    "    performance = .5 * pl.col('corr') + 2 * pl.col('mmc_approximation')\n",
    ")\n",
    "df_result_linear"
   ],
   "id": "699bbae596ff5e3b",
   "outputs": [
    {
     "data": {
      "text/plain": [
       "shape: (3, 5)\n",
       "┌──────┬──────────┬───────────┬───────────────────┬─────────────┐\n",
       "│ fold ┆ corr     ┆ corr_w_mm ┆ mmc_approximation ┆ performance │\n",
       "│ ---  ┆ ---      ┆ ---       ┆ ---               ┆ ---         │\n",
       "│ i64  ┆ f64      ┆ f64       ┆ f64               ┆ f64         │\n",
       "╞══════╪══════════╪═══════════╪═══════════════════╪═════════════╡\n",
       "│ 0    ┆ 0.022727 ┆ 0.461625  ┆ -0.000816         ┆ 0.009731    │\n",
       "│ 1    ┆ 0.021811 ┆ 0.49834   ┆ -0.002109         ┆ 0.006688    │\n",
       "│ 2    ┆ 0.013165 ┆ 0.522116  ┆ -0.005109         ┆ -0.003635   │\n",
       "└──────┴──────────┴───────────┴───────────────────┴─────────────┘"
      ],
      "text/html": [
       "<div><style>\n",
       ".dataframe > thead > tr,\n",
       ".dataframe > tbody > tr {\n",
       "  text-align: right;\n",
       "  white-space: pre-wrap;\n",
       "}\n",
       "</style>\n",
       "<small>shape: (3, 5)</small><table border=\"1\" class=\"dataframe\"><thead><tr><th>fold</th><th>corr</th><th>corr_w_mm</th><th>mmc_approximation</th><th>performance</th></tr><tr><td>i64</td><td>f64</td><td>f64</td><td>f64</td><td>f64</td></tr></thead><tbody><tr><td>0</td><td>0.022727</td><td>0.461625</td><td>-0.000816</td><td>0.009731</td></tr><tr><td>1</td><td>0.021811</td><td>0.49834</td><td>-0.002109</td><td>0.006688</td></tr><tr><td>2</td><td>0.013165</td><td>0.522116</td><td>-0.005109</td><td>-0.003635</td></tr></tbody></table></div>"
      ]
     },
     "execution_count": 46,
     "metadata": {},
     "output_type": "execute_result"
    }
   ],
   "execution_count": 46
  },
  {
   "metadata": {
    "ExecuteTime": {
     "end_time": "2025-06-17T13:24:04.896560Z",
     "start_time": "2025-06-17T13:24:04.890067Z"
    }
   },
   "cell_type": "code",
   "source": [
    "(DATA_PATH / 'results').mkdir(parents=True, exist_ok=True)\n",
    "df_result_linear.write_parquet(f'{DATA_PATH}/results/df_result_linear.parquet')\n",
    "df_result_numerai_lgb.write_parquet(f'{DATA_PATH}/results/df_result_numerai_lgb.parquet')"
   ],
   "id": "5011e1a987ed57a3",
   "outputs": [],
   "execution_count": 47
  }
 ],
 "metadata": {
  "kernelspec": {
   "display_name": "Python 3",
   "language": "python",
   "name": "python3"
  },
  "language_info": {
   "codemirror_mode": {
    "name": "ipython",
    "version": 2
   },
   "file_extension": ".py",
   "mimetype": "text/x-python",
   "name": "python",
   "nbconvert_exporter": "python",
   "pygments_lexer": "ipython2",
   "version": "2.7.6"
  }
 },
 "nbformat": 4,
 "nbformat_minor": 5
}
